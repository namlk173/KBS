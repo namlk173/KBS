{
 "cells": [
  {
   "cell_type": "code",
   "execution_count": 18,
   "id": "98bb6e14",
   "metadata": {},
   "outputs": [],
   "source": [
    "import pandas as pd\n",
    "import numpy as np\n",
    "from numpy import load\n"
   ]
  },
  {
   "cell_type": "markdown",
   "id": "5b7d0fc5",
   "metadata": {},
   "source": [
    "### load data from matrix.npz file have been stored and some other file data we need"
   ]
  },
  {
   "cell_type": "code",
   "execution_count": 2,
   "id": "9ceadec1",
   "metadata": {},
   "outputs": [],
   "source": [
    "dict_data = load('../../Code/backend/dataset/matrix.npz')\n",
    "vectors = dict_data['arr_0']\n",
    "dictionary = pd.read_csv('dictionary.csv')\n",
    "data = pd.read_csv('content_base_data.csv')"
   ]
  },
  {
   "cell_type": "code",
   "execution_count": 4,
   "id": "2289d131",
   "metadata": {},
   "outputs": [
    {
     "data": {
      "text/plain": [
       "(9742, 6)"
      ]
     },
     "execution_count": 4,
     "metadata": {},
     "output_type": "execute_result"
    }
   ],
   "source": [
    "data.shape"
   ]
  },
  {
   "cell_type": "code",
   "execution_count": 6,
   "id": "6713658a",
   "metadata": {},
   "outputs": [
    {
     "data": {
      "text/plain": [
       "array([[0, 0, 0, ..., 0, 0, 0],\n",
       "       [0, 0, 0, ..., 0, 0, 0],\n",
       "       [0, 0, 0, ..., 0, 0, 0],\n",
       "       ...,\n",
       "       [0, 0, 0, ..., 0, 0, 0],\n",
       "       [0, 0, 0, ..., 0, 0, 0],\n",
       "       [0, 0, 0, ..., 0, 0, 0]], dtype=int64)"
      ]
     },
     "execution_count": 6,
     "metadata": {},
     "output_type": "execute_result"
    }
   ],
   "source": [
    "vectors"
   ]
  },
  {
   "cell_type": "code",
   "execution_count": 7,
   "id": "a432c919",
   "metadata": {},
   "outputs": [],
   "source": [
    "dictionary = dictionary['dictionary'].values"
   ]
  },
  {
   "cell_type": "code",
   "execution_count": 8,
   "id": "d6e4e7b1",
   "metadata": {},
   "outputs": [
    {
     "data": {
      "text/plain": [
       "array(['000', '10', '100', ..., 'zone', 'zoo', 'zorro'], dtype=object)"
      ]
     },
     "execution_count": 8,
     "metadata": {},
     "output_type": "execute_result"
    }
   ],
   "source": [
    "dictionary"
   ]
  },
  {
   "cell_type": "code",
   "execution_count": 9,
   "id": "1215c3fb",
   "metadata": {},
   "outputs": [
    {
     "data": {
      "text/plain": [
       "(9742, 5000)"
      ]
     },
     "execution_count": 9,
     "metadata": {},
     "output_type": "execute_result"
    }
   ],
   "source": [
    "vectors.shape"
   ]
  },
  {
   "cell_type": "markdown",
   "id": "a7393df9",
   "metadata": {},
   "source": [
    "### constructor CountVectorizer to get feature of input from client using 5000 common word have been stored"
   ]
  },
  {
   "cell_type": "code",
   "execution_count": 10,
   "id": "1d096b2b",
   "metadata": {},
   "outputs": [],
   "source": [
    "from sklearn.metrics.pairwise import cosine_similarity\n",
    "from sklearn.feature_extraction.text import CountVectorizer\n",
    "cv = CountVectorizer(max_features=5000, stop_words='english', vocabulary=dictionary, lowercase=False)"
   ]
  },
  {
   "cell_type": "code",
   "execution_count": 11,
   "id": "30150b65",
   "metadata": {},
   "outputs": [],
   "source": [
    "import nltk\n",
    "from nltk.stem.porter import PorterStemmer\n",
    "ps = PorterStemmer()"
   ]
  },
  {
   "cell_type": "code",
   "execution_count": 12,
   "id": "08cb6e0e",
   "metadata": {},
   "outputs": [],
   "source": [
    "def stem(text):\n",
    "    y = []\n",
    "    for i in text.split():\n",
    "        y.append(ps.stem(i))\n",
    "    return \" \".join(y)"
   ]
  },
  {
   "cell_type": "markdown",
   "id": "cf4a124b",
   "metadata": {},
   "source": [
    "### Add feature of input into vectors contain feature of all movies and calulator distance betweend them "
   ]
  },
  {
   "cell_type": "code",
   "execution_count": 13,
   "id": "5fb46dac",
   "metadata": {},
   "outputs": [],
   "source": [
    "def recommend(movie, vectors, data):\n",
    "    movie_feature = cv.fit_transform([stem(movie)]).toarray()\n",
    "    new_vectors = np.append(vectors, movie_feature, axis=0)\n",
    "    similarity = cosine_similarity(new_vectors)\n",
    "    most_similars = sorted(list(enumerate(similarity[similarity.shape[0]-1])), reverse=True, key=lambda x:x[1])[1:10]\n",
    "    result = []\n",
    "    for similar in most_similars:\n",
    "        result.append(data.loc[similar[0]])\n",
    "    return result"
   ]
  },
  {
   "cell_type": "code",
   "execution_count": 14,
   "id": "e1c1490a",
   "metadata": {},
   "outputs": [
    {
     "data": {
      "text/plain": [
       "array([[0, 0, 0, ..., 0, 0, 0]], dtype=int64)"
      ]
     },
     "execution_count": 14,
     "metadata": {},
     "output_type": "execute_result"
    }
   ],
   "source": [
    "movie_feature = cv.fit_transform([stem(\"batman\")]).toarray()\n",
    "movie_feature"
   ]
  },
  {
   "cell_type": "code",
   "execution_count": 15,
   "id": "8628fa53",
   "metadata": {},
   "outputs": [
    {
     "data": {
      "text/plain": [
       "(9742, 5000)"
      ]
     },
     "execution_count": 15,
     "metadata": {},
     "output_type": "execute_result"
    }
   ],
   "source": [
    "vectors.shape"
   ]
  },
  {
   "cell_type": "code",
   "execution_count": null,
   "id": "045a293f",
   "metadata": {},
   "outputs": [],
   "source": [
    "list_recommend = recommend(\"1994\", vectors, data)"
   ]
  },
  {
   "cell_type": "markdown",
   "id": "18f9a98a",
   "metadata": {},
   "source": []
  },
  {
   "cell_type": "code",
   "execution_count": 17,
   "id": "b80ab561",
   "metadata": {},
   "outputs": [
    {
     "name": "stdout",
     "output_type": "stream",
     "text": [
      "movieId                                                    5349\n",
      "title                                         Spider-Man (2002)\n",
      "genres                         Action Adventure Sci-Fi Thriller\n",
      "poster_url    https://image.tmdb.org/t/p/w500//gh4cZbhZxyTbg...\n",
      "overview      After being bitten by a genetically altered sp...\n",
      "keyword       spider-man (2002) spider-man (2002) spider-man...\n",
      "Name: 3819, dtype: object\n",
      "movieId                                                   52722\n",
      "title                                       Spider-Man 3 (2007)\n",
      "genres                    Action Adventure Sci-Fi Thriller IMAX\n",
      "poster_url    https://image.tmdb.org/t/p/w500//fUZyFTovKMauA...\n",
      "overview      The seemingly invincible Spider-Man goes up ag...\n",
      "keyword       spider-man 3 (2007) spider-man 3 (2007) spider...\n",
      "Name: 6470, dtype: object\n",
      "movieId                                                    8636\n",
      "title                                       Spider-Man 2 (2004)\n",
      "genres                             Action Adventure Sci-Fi IMAX\n",
      "poster_url    https://image.tmdb.org/t/p/w500//olxpyq9kJAZ2N...\n",
      "overview      Peter Parker is going through a major identity...\n",
      "keyword       spider-man 2 (2004) spider-man 2 (2004) spider...\n",
      "Name: 5260, dtype: object\n",
      "movieId                                                  110553\n",
      "title                           The Amazing Spider-Man 2 (2014)\n",
      "genres                                       Action Sci-Fi IMAX\n",
      "poster_url    https://image.tmdb.org/t/p/w500//c3e9e18SSlvFd...\n",
      "overview      For Peter Parker, life is busy. Between taking...\n",
      "keyword       the amaz spider-man 2 (2014) the amaz spider-m...\n",
      "Name: 8406, dtype: object\n",
      "movieId                                                    6425\n",
      "title                      6th Man, The (Sixth Man, The) (1997)\n",
      "genres                                                   Comedy\n",
      "poster_url    https://image.tmdb.org/t/p/w500//kynvOlKALNek7...\n",
      "overview      A college athlete returns from the dead to hel...\n",
      "keyword       6th man, the (sixth man, the) (1997) 6th man, ...\n",
      "Name: 4382, dtype: object\n",
      "movieId                                                   34542\n",
      "title                                        Grizzly Man (2005)\n",
      "genres                                              Documentary\n",
      "poster_url    https://image.tmdb.org/t/p/w500//nXIV2qGK9Kkdk...\n",
      "overview      Werner Herzog's documentary film about the \"Gr...\n",
      "keyword       grizzli man (2005) grizzli man (2005) grizzli ...\n",
      "Name: 5966, dtype: object\n",
      "movieId                                                     735\n",
      "title                Cemetery Man (Dellamorte Dellamore) (1994)\n",
      "genres                                                   Horror\n",
      "poster_url    https://image.tmdb.org/t/p/w500//cI5AV3jCuxmoQ...\n",
      "overview      A cemetery man has the unusual problem of the ...\n",
      "keyword       cemeteri man (dellamort dellamore) (1994) ceme...\n",
      "Name: 593, dtype: object\n",
      "movieId                                                   95510\n",
      "title                            Amazing Spider-Man, The (2012)\n",
      "genres                             Action Adventure Sci-Fi IMAX\n",
      "poster_url    https://image.tmdb.org/t/p/w500//fSbqPbqXa7ePo...\n",
      "overview      Peter Parker is an outcast high schooler aband...\n",
      "keyword       amaz spider-man, the (2012) amaz spider-man, t...\n",
      "Name: 7927, dtype: object\n",
      "movieId                                                    2313\n",
      "title                                  Elephant Man, The (1980)\n",
      "genres                                                    Drama\n",
      "poster_url    https://image.tmdb.org/t/p/w500//rk2lKgEtjF9HO...\n",
      "overview      A Victorian surgeon rescues a heavily disfigur...\n",
      "keyword       eleph man, the (1980) eleph man, the (1980) el...\n",
      "Name: 1721, dtype: object\n"
     ]
    }
   ],
   "source": [
    "for i in list_recommend:\n",
    "    print(i)"
   ]
  },
  {
   "cell_type": "code",
   "execution_count": null,
   "id": "c9b2104c",
   "metadata": {},
   "outputs": [],
   "source": []
  },
  {
   "cell_type": "code",
   "execution_count": null,
   "id": "ca9d547a",
   "metadata": {},
   "outputs": [],
   "source": []
  }
 ],
 "metadata": {
  "kernelspec": {
   "display_name": "Python 3 (ipykernel)",
   "language": "python",
   "name": "python3"
  },
  "language_info": {
   "codemirror_mode": {
    "name": "ipython",
    "version": 3
   },
   "file_extension": ".py",
   "mimetype": "text/x-python",
   "name": "python",
   "nbconvert_exporter": "python",
   "pygments_lexer": "ipython3",
   "version": "3.9.7"
  }
 },
 "nbformat": 4,
 "nbformat_minor": 5
}
