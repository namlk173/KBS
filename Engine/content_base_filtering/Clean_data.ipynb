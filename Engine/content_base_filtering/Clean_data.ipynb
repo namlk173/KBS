{
 "cells": [
  {
   "cell_type": "markdown",
   "id": "964b89e9",
   "metadata": {},
   "source": [
    "### Import library"
   ]
  },
  {
   "cell_type": "code",
   "execution_count": 18,
   "id": "f55f54bf",
   "metadata": {},
   "outputs": [],
   "source": [
    "import pandas as pd\n",
    "import numpy as np"
   ]
  },
  {
   "cell_type": "markdown",
   "id": "83dbe2b5",
   "metadata": {},
   "source": [
    "### Read data from csv file"
   ]
  },
  {
   "cell_type": "code",
   "execution_count": 19,
   "id": "bf3b5863",
   "metadata": {},
   "outputs": [],
   "source": [
    "movies = pd.read_csv('../dataset/movies_data_final.csv')"
   ]
  },
  {
   "cell_type": "code",
   "execution_count": 20,
   "id": "0d28fc53",
   "metadata": {},
   "outputs": [
    {
     "data": {
      "text/html": [
       "<div>\n",
       "<style scoped>\n",
       "    .dataframe tbody tr th:only-of-type {\n",
       "        vertical-align: middle;\n",
       "    }\n",
       "\n",
       "    .dataframe tbody tr th {\n",
       "        vertical-align: top;\n",
       "    }\n",
       "\n",
       "    .dataframe thead th {\n",
       "        text-align: right;\n",
       "    }\n",
       "</style>\n",
       "<table border=\"1\" class=\"dataframe\">\n",
       "  <thead>\n",
       "    <tr style=\"text-align: right;\">\n",
       "      <th></th>\n",
       "      <th>movieId</th>\n",
       "      <th>title</th>\n",
       "      <th>genres</th>\n",
       "      <th>poster_url</th>\n",
       "      <th>overview</th>\n",
       "      <th>rating</th>\n",
       "    </tr>\n",
       "  </thead>\n",
       "  <tbody>\n",
       "    <tr>\n",
       "      <th>0</th>\n",
       "      <td>1</td>\n",
       "      <td>Toy Story (1995)</td>\n",
       "      <td>Adventure Animation Children Comedy Fantasy</td>\n",
       "      <td>https://image.tmdb.org/t/p/w500//uXDfjJbdP4ijW...</td>\n",
       "      <td>Led by Woody, Andy's toys live happily in his ...</td>\n",
       "      <td>3.9</td>\n",
       "    </tr>\n",
       "    <tr>\n",
       "      <th>1</th>\n",
       "      <td>2</td>\n",
       "      <td>Jumanji (1995)</td>\n",
       "      <td>Adventure Children Fantasy</td>\n",
       "      <td>https://image.tmdb.org/t/p/w500//6aGn2X51bahFo...</td>\n",
       "      <td>When siblings Judy and Peter discover an encha...</td>\n",
       "      <td>3.4</td>\n",
       "    </tr>\n",
       "    <tr>\n",
       "      <th>2</th>\n",
       "      <td>3</td>\n",
       "      <td>Grumpier Old Men (1995)</td>\n",
       "      <td>Comedy Romance</td>\n",
       "      <td>https://image.tmdb.org/t/p/w500//1FSXpj5e8l4KH...</td>\n",
       "      <td>A family wedding reignites the ancient feud be...</td>\n",
       "      <td>3.3</td>\n",
       "    </tr>\n",
       "    <tr>\n",
       "      <th>3</th>\n",
       "      <td>4</td>\n",
       "      <td>Waiting to Exhale (1995)</td>\n",
       "      <td>Comedy Drama Romance</td>\n",
       "      <td>https://image.tmdb.org/t/p/w500//4uw6HKq4vlhrS...</td>\n",
       "      <td>Cheated on, mistreated and stepped on, the wom...</td>\n",
       "      <td>2.4</td>\n",
       "    </tr>\n",
       "    <tr>\n",
       "      <th>4</th>\n",
       "      <td>5</td>\n",
       "      <td>Father of the Bride Part II (1995)</td>\n",
       "      <td>Comedy</td>\n",
       "      <td>https://image.tmdb.org/t/p/w500//rj4LBtwQ0uGrp...</td>\n",
       "      <td>Just when George Banks has recovered from his ...</td>\n",
       "      <td>3.1</td>\n",
       "    </tr>\n",
       "  </tbody>\n",
       "</table>\n",
       "</div>"
      ],
      "text/plain": [
       "   movieId                               title  \\\n",
       "0        1                    Toy Story (1995)   \n",
       "1        2                      Jumanji (1995)   \n",
       "2        3             Grumpier Old Men (1995)   \n",
       "3        4            Waiting to Exhale (1995)   \n",
       "4        5  Father of the Bride Part II (1995)   \n",
       "\n",
       "                                        genres  \\\n",
       "0  Adventure Animation Children Comedy Fantasy   \n",
       "1                   Adventure Children Fantasy   \n",
       "2                               Comedy Romance   \n",
       "3                         Comedy Drama Romance   \n",
       "4                                       Comedy   \n",
       "\n",
       "                                          poster_url  \\\n",
       "0  https://image.tmdb.org/t/p/w500//uXDfjJbdP4ijW...   \n",
       "1  https://image.tmdb.org/t/p/w500//6aGn2X51bahFo...   \n",
       "2  https://image.tmdb.org/t/p/w500//1FSXpj5e8l4KH...   \n",
       "3  https://image.tmdb.org/t/p/w500//4uw6HKq4vlhrS...   \n",
       "4  https://image.tmdb.org/t/p/w500//rj4LBtwQ0uGrp...   \n",
       "\n",
       "                                            overview  rating  \n",
       "0  Led by Woody, Andy's toys live happily in his ...     3.9  \n",
       "1  When siblings Judy and Peter discover an encha...     3.4  \n",
       "2  A family wedding reignites the ancient feud be...     3.3  \n",
       "3  Cheated on, mistreated and stepped on, the wom...     2.4  \n",
       "4  Just when George Banks has recovered from his ...     3.1  "
      ]
     },
     "execution_count": 20,
     "metadata": {},
     "output_type": "execute_result"
    }
   ],
   "source": [
    "movies.head()"
   ]
  },
  {
   "cell_type": "code",
   "execution_count": 21,
   "id": "272edf66",
   "metadata": {},
   "outputs": [
    {
     "name": "stdout",
     "output_type": "stream",
     "text": [
      "<class 'pandas.core.frame.DataFrame'>\n",
      "RangeIndex: 9742 entries, 0 to 9741\n",
      "Data columns (total 6 columns):\n",
      " #   Column      Non-Null Count  Dtype  \n",
      "---  ------      --------------  -----  \n",
      " 0   movieId     9742 non-null   int64  \n",
      " 1   title       9742 non-null   object \n",
      " 2   genres      9742 non-null   object \n",
      " 3   poster_url  9742 non-null   object \n",
      " 4   overview    9742 non-null   object \n",
      " 5   rating      9742 non-null   float64\n",
      "dtypes: float64(1), int64(1), object(4)\n",
      "memory usage: 456.8+ KB\n"
     ]
    }
   ],
   "source": [
    "movies.info()"
   ]
  },
  {
   "cell_type": "code",
   "execution_count": 22,
   "id": "77bdb706",
   "metadata": {},
   "outputs": [
    {
     "data": {
      "text/html": [
       "<div>\n",
       "<style scoped>\n",
       "    .dataframe tbody tr th:only-of-type {\n",
       "        vertical-align: middle;\n",
       "    }\n",
       "\n",
       "    .dataframe tbody tr th {\n",
       "        vertical-align: top;\n",
       "    }\n",
       "\n",
       "    .dataframe thead th {\n",
       "        text-align: right;\n",
       "    }\n",
       "</style>\n",
       "<table border=\"1\" class=\"dataframe\">\n",
       "  <thead>\n",
       "    <tr style=\"text-align: right;\">\n",
       "      <th></th>\n",
       "      <th>movieId</th>\n",
       "      <th>title</th>\n",
       "      <th>genres</th>\n",
       "      <th>poster_url</th>\n",
       "      <th>overview</th>\n",
       "    </tr>\n",
       "  </thead>\n",
       "  <tbody>\n",
       "    <tr>\n",
       "      <th>0</th>\n",
       "      <td>1</td>\n",
       "      <td>Toy Story (1995)</td>\n",
       "      <td>Adventure Animation Children Comedy Fantasy</td>\n",
       "      <td>https://image.tmdb.org/t/p/w500//uXDfjJbdP4ijW...</td>\n",
       "      <td>Led by Woody, Andy's toys live happily in his ...</td>\n",
       "    </tr>\n",
       "    <tr>\n",
       "      <th>1</th>\n",
       "      <td>2</td>\n",
       "      <td>Jumanji (1995)</td>\n",
       "      <td>Adventure Children Fantasy</td>\n",
       "      <td>https://image.tmdb.org/t/p/w500//6aGn2X51bahFo...</td>\n",
       "      <td>When siblings Judy and Peter discover an encha...</td>\n",
       "    </tr>\n",
       "    <tr>\n",
       "      <th>2</th>\n",
       "      <td>3</td>\n",
       "      <td>Grumpier Old Men (1995)</td>\n",
       "      <td>Comedy Romance</td>\n",
       "      <td>https://image.tmdb.org/t/p/w500//1FSXpj5e8l4KH...</td>\n",
       "      <td>A family wedding reignites the ancient feud be...</td>\n",
       "    </tr>\n",
       "    <tr>\n",
       "      <th>3</th>\n",
       "      <td>4</td>\n",
       "      <td>Waiting to Exhale (1995)</td>\n",
       "      <td>Comedy Drama Romance</td>\n",
       "      <td>https://image.tmdb.org/t/p/w500//4uw6HKq4vlhrS...</td>\n",
       "      <td>Cheated on, mistreated and stepped on, the wom...</td>\n",
       "    </tr>\n",
       "    <tr>\n",
       "      <th>4</th>\n",
       "      <td>5</td>\n",
       "      <td>Father of the Bride Part II (1995)</td>\n",
       "      <td>Comedy</td>\n",
       "      <td>https://image.tmdb.org/t/p/w500//rj4LBtwQ0uGrp...</td>\n",
       "      <td>Just when George Banks has recovered from his ...</td>\n",
       "    </tr>\n",
       "  </tbody>\n",
       "</table>\n",
       "</div>"
      ],
      "text/plain": [
       "   movieId                               title  \\\n",
       "0        1                    Toy Story (1995)   \n",
       "1        2                      Jumanji (1995)   \n",
       "2        3             Grumpier Old Men (1995)   \n",
       "3        4            Waiting to Exhale (1995)   \n",
       "4        5  Father of the Bride Part II (1995)   \n",
       "\n",
       "                                        genres  \\\n",
       "0  Adventure Animation Children Comedy Fantasy   \n",
       "1                   Adventure Children Fantasy   \n",
       "2                               Comedy Romance   \n",
       "3                         Comedy Drama Romance   \n",
       "4                                       Comedy   \n",
       "\n",
       "                                          poster_url  \\\n",
       "0  https://image.tmdb.org/t/p/w500//uXDfjJbdP4ijW...   \n",
       "1  https://image.tmdb.org/t/p/w500//6aGn2X51bahFo...   \n",
       "2  https://image.tmdb.org/t/p/w500//1FSXpj5e8l4KH...   \n",
       "3  https://image.tmdb.org/t/p/w500//4uw6HKq4vlhrS...   \n",
       "4  https://image.tmdb.org/t/p/w500//rj4LBtwQ0uGrp...   \n",
       "\n",
       "                                            overview  \n",
       "0  Led by Woody, Andy's toys live happily in his ...  \n",
       "1  When siblings Judy and Peter discover an encha...  \n",
       "2  A family wedding reignites the ancient feud be...  \n",
       "3  Cheated on, mistreated and stepped on, the wom...  \n",
       "4  Just when George Banks has recovered from his ...  "
      ]
     },
     "execution_count": 22,
     "metadata": {},
     "output_type": "execute_result"
    }
   ],
   "source": [
    "new_movies = movies[['movieId', 'title', 'genres', 'poster_url', 'overview']]\n",
    "new_movies.head()"
   ]
  },
  {
   "cell_type": "code",
   "execution_count": 23,
   "id": "775a2b08",
   "metadata": {},
   "outputs": [
    {
     "data": {
      "text/plain": [
       "'Adventure Animation Children Comedy Fantasy'"
      ]
     },
     "execution_count": 23,
     "metadata": {},
     "output_type": "execute_result"
    }
   ],
   "source": [
    "\" \".join(\"Adventure|Animation|Children|Comedy|Fantasy\".split(\"|\"))"
   ]
  },
  {
   "cell_type": "code",
   "execution_count": 24,
   "id": "0272c8a9",
   "metadata": {},
   "outputs": [
    {
     "name": "stderr",
     "output_type": "stream",
     "text": [
      "C:\\Users\\lekha\\AppData\\Local\\Temp\\ipykernel_10624\\1095107591.py:1: SettingWithCopyWarning: \n",
      "A value is trying to be set on a copy of a slice from a DataFrame.\n",
      "Try using .loc[row_indexer,col_indexer] = value instead\n",
      "\n",
      "See the caveats in the documentation: https://pandas.pydata.org/pandas-docs/stable/user_guide/indexing.html#returning-a-view-versus-a-copy\n",
      "  new_movies['genres'] = new_movies['genres'].apply(lambda x: \" \".join(x.split(\"|\")))\n"
     ]
    }
   ],
   "source": [
    "new_movies['genres'] = new_movies['genres'].apply(lambda x: \" \".join(x.split(\"|\")))"
   ]
  },
  {
   "cell_type": "code",
   "execution_count": 25,
   "id": "1aeae48c",
   "metadata": {},
   "outputs": [
    {
     "data": {
      "text/html": [
       "<div>\n",
       "<style scoped>\n",
       "    .dataframe tbody tr th:only-of-type {\n",
       "        vertical-align: middle;\n",
       "    }\n",
       "\n",
       "    .dataframe tbody tr th {\n",
       "        vertical-align: top;\n",
       "    }\n",
       "\n",
       "    .dataframe thead th {\n",
       "        text-align: right;\n",
       "    }\n",
       "</style>\n",
       "<table border=\"1\" class=\"dataframe\">\n",
       "  <thead>\n",
       "    <tr style=\"text-align: right;\">\n",
       "      <th></th>\n",
       "      <th>movieId</th>\n",
       "      <th>title</th>\n",
       "      <th>genres</th>\n",
       "      <th>poster_url</th>\n",
       "      <th>overview</th>\n",
       "    </tr>\n",
       "  </thead>\n",
       "  <tbody>\n",
       "    <tr>\n",
       "      <th>0</th>\n",
       "      <td>1</td>\n",
       "      <td>Toy Story (1995)</td>\n",
       "      <td>Adventure Animation Children Comedy Fantasy</td>\n",
       "      <td>https://image.tmdb.org/t/p/w500//uXDfjJbdP4ijW...</td>\n",
       "      <td>Led by Woody, Andy's toys live happily in his ...</td>\n",
       "    </tr>\n",
       "    <tr>\n",
       "      <th>1</th>\n",
       "      <td>2</td>\n",
       "      <td>Jumanji (1995)</td>\n",
       "      <td>Adventure Children Fantasy</td>\n",
       "      <td>https://image.tmdb.org/t/p/w500//6aGn2X51bahFo...</td>\n",
       "      <td>When siblings Judy and Peter discover an encha...</td>\n",
       "    </tr>\n",
       "    <tr>\n",
       "      <th>2</th>\n",
       "      <td>3</td>\n",
       "      <td>Grumpier Old Men (1995)</td>\n",
       "      <td>Comedy Romance</td>\n",
       "      <td>https://image.tmdb.org/t/p/w500//1FSXpj5e8l4KH...</td>\n",
       "      <td>A family wedding reignites the ancient feud be...</td>\n",
       "    </tr>\n",
       "    <tr>\n",
       "      <th>3</th>\n",
       "      <td>4</td>\n",
       "      <td>Waiting to Exhale (1995)</td>\n",
       "      <td>Comedy Drama Romance</td>\n",
       "      <td>https://image.tmdb.org/t/p/w500//4uw6HKq4vlhrS...</td>\n",
       "      <td>Cheated on, mistreated and stepped on, the wom...</td>\n",
       "    </tr>\n",
       "    <tr>\n",
       "      <th>4</th>\n",
       "      <td>5</td>\n",
       "      <td>Father of the Bride Part II (1995)</td>\n",
       "      <td>Comedy</td>\n",
       "      <td>https://image.tmdb.org/t/p/w500//rj4LBtwQ0uGrp...</td>\n",
       "      <td>Just when George Banks has recovered from his ...</td>\n",
       "    </tr>\n",
       "  </tbody>\n",
       "</table>\n",
       "</div>"
      ],
      "text/plain": [
       "   movieId                               title  \\\n",
       "0        1                    Toy Story (1995)   \n",
       "1        2                      Jumanji (1995)   \n",
       "2        3             Grumpier Old Men (1995)   \n",
       "3        4            Waiting to Exhale (1995)   \n",
       "4        5  Father of the Bride Part II (1995)   \n",
       "\n",
       "                                        genres  \\\n",
       "0  Adventure Animation Children Comedy Fantasy   \n",
       "1                   Adventure Children Fantasy   \n",
       "2                               Comedy Romance   \n",
       "3                         Comedy Drama Romance   \n",
       "4                                       Comedy   \n",
       "\n",
       "                                          poster_url  \\\n",
       "0  https://image.tmdb.org/t/p/w500//uXDfjJbdP4ijW...   \n",
       "1  https://image.tmdb.org/t/p/w500//6aGn2X51bahFo...   \n",
       "2  https://image.tmdb.org/t/p/w500//1FSXpj5e8l4KH...   \n",
       "3  https://image.tmdb.org/t/p/w500//4uw6HKq4vlhrS...   \n",
       "4  https://image.tmdb.org/t/p/w500//rj4LBtwQ0uGrp...   \n",
       "\n",
       "                                            overview  \n",
       "0  Led by Woody, Andy's toys live happily in his ...  \n",
       "1  When siblings Judy and Peter discover an encha...  \n",
       "2  A family wedding reignites the ancient feud be...  \n",
       "3  Cheated on, mistreated and stepped on, the wom...  \n",
       "4  Just when George Banks has recovered from his ...  "
      ]
     },
     "execution_count": 25,
     "metadata": {},
     "output_type": "execute_result"
    }
   ],
   "source": [
    "new_movies.head()"
   ]
  },
  {
   "cell_type": "code",
   "execution_count": 26,
   "id": "1204f7ab",
   "metadata": {},
   "outputs": [],
   "source": [
    "new_movies['keyword'] = (new_movies['title'] + ' ')  * 3 + ' ' + (new_movies['genres'] + ' ')* 2 + ' ' + new_movies['overview']"
   ]
  },
  {
   "cell_type": "code",
   "execution_count": 27,
   "id": "9a52fcbf",
   "metadata": {},
   "outputs": [
    {
     "data": {
      "text/plain": [
       "0       Toy Story (1995) Toy Story (1995) Toy Story (1...\n",
       "1       Jumanji (1995) Jumanji (1995) Jumanji (1995)  ...\n",
       "2       Grumpier Old Men (1995) Grumpier Old Men (1995...\n",
       "3       Waiting to Exhale (1995) Waiting to Exhale (19...\n",
       "4       Father of the Bride Part II (1995) Father of t...\n",
       "                              ...                        \n",
       "9737    Black Butler: Book of the Atlantic (2017) Blac...\n",
       "9738    No Game No Life: Zero (2017) No Game No Life: ...\n",
       "9739    Flint (2017) Flint (2017) Flint (2017)  Drama ...\n",
       "9740    Bungo Stray Dogs: Dead Apple (2018) Bungo Stra...\n",
       "9741    Andrew Dice Clay: Dice Rules (1991) Andrew Dic...\n",
       "Name: keyword, Length: 9742, dtype: object"
      ]
     },
     "execution_count": 27,
     "metadata": {},
     "output_type": "execute_result"
    }
   ],
   "source": [
    "new_movies['keyword']"
   ]
  },
  {
   "cell_type": "code",
   "execution_count": 28,
   "id": "141c5f7e",
   "metadata": {},
   "outputs": [],
   "source": [
    "new_movies['keyword'] = new_movies['keyword'].apply(lambda x: str(x).lower())"
   ]
  },
  {
   "cell_type": "code",
   "execution_count": 29,
   "id": "58e5581b",
   "metadata": {},
   "outputs": [
    {
     "data": {
      "text/plain": [
       "\"toy story (1995) toy story (1995) toy story (1995)  adventure animation children comedy fantasy adventure animation children comedy fantasy  led by woody, andy's toys live happily in his room until andy's birthday brings buzz lightyear onto the scene. afraid of losing his place in andy's heart, woody plots against buzz. but when circumstances separate buzz and woody from their owner, the duo eventually learns to put aside their differences.\""
      ]
     },
     "execution_count": 29,
     "metadata": {},
     "output_type": "execute_result"
    }
   ],
   "source": [
    "new_movies['keyword'][0]"
   ]
  },
  {
   "cell_type": "markdown",
   "id": "1192ba80",
   "metadata": {},
   "source": [
    "### Import library"
   ]
  },
  {
   "cell_type": "code",
   "execution_count": 30,
   "id": "34b45635",
   "metadata": {},
   "outputs": [],
   "source": [
    "import nltk"
   ]
  },
  {
   "cell_type": "code",
   "execution_count": 31,
   "id": "6a67aef8",
   "metadata": {},
   "outputs": [],
   "source": [
    "from nltk.stem.porter import PorterStemmer\n",
    "ps = PorterStemmer()"
   ]
  },
  {
   "cell_type": "code",
   "execution_count": 32,
   "id": "339f5a5e",
   "metadata": {},
   "outputs": [],
   "source": [
    "def stem(text):\n",
    "    y = []\n",
    "    for i in text.split():\n",
    "        if(i[0]=='(' and i[len(i) -1] == ')'):\n",
    "            pass\n",
    "        else:\n",
    "            y.append(ps.stem(i))\n",
    "    return \" \".join(y)"
   ]
  },
  {
   "cell_type": "code",
   "execution_count": 33,
   "id": "84503ce4",
   "metadata": {},
   "outputs": [
    {
     "data": {
      "text/plain": [
       "'love'"
      ]
     },
     "execution_count": 33,
     "metadata": {},
     "output_type": "execute_result"
    }
   ],
   "source": [
    "ps.stem('loving')"
   ]
  },
  {
   "cell_type": "code",
   "execution_count": 34,
   "id": "eade365f",
   "metadata": {},
   "outputs": [
    {
     "data": {
      "text/plain": [
       "\"toy stori adventur anim children comedi fantasi led by woody, andy' toy live happili in hi room until andy' birthday bring buzz lightyear onto the scene. afraid of lose hi place in andy' heart, woodi plot against buzz. but when circumst separ buzz and woodi from their owner 1231, the duo eventu learn to put asid their differences.\""
      ]
     },
     "execution_count": 34,
     "metadata": {},
     "output_type": "execute_result"
    }
   ],
   "source": [
    "stem(\"toy story (1995) adventure animation children comedy fantasy led by woody, andy's toys live happily in his room until andy's birthday brings buzz lightyear onto the scene. afraid of losing his place in andy's heart, woody plots against buzz. but when circumstances separate buzz and woody from their owner 1231, the duo eventually learns to put aside their differences.\")"
   ]
  },
  {
   "cell_type": "code",
   "execution_count": 35,
   "id": "12118a79",
   "metadata": {},
   "outputs": [],
   "source": [
    "new_movies['keyword'] = new_movies['keyword'].apply(stem)"
   ]
  },
  {
   "cell_type": "code",
   "execution_count": 36,
   "id": "f44c7cab",
   "metadata": {},
   "outputs": [
    {
     "data": {
      "text/html": [
       "<div>\n",
       "<style scoped>\n",
       "    .dataframe tbody tr th:only-of-type {\n",
       "        vertical-align: middle;\n",
       "    }\n",
       "\n",
       "    .dataframe tbody tr th {\n",
       "        vertical-align: top;\n",
       "    }\n",
       "\n",
       "    .dataframe thead th {\n",
       "        text-align: right;\n",
       "    }\n",
       "</style>\n",
       "<table border=\"1\" class=\"dataframe\">\n",
       "  <thead>\n",
       "    <tr style=\"text-align: right;\">\n",
       "      <th></th>\n",
       "      <th>movieId</th>\n",
       "      <th>title</th>\n",
       "      <th>genres</th>\n",
       "      <th>poster_url</th>\n",
       "      <th>overview</th>\n",
       "      <th>keyword</th>\n",
       "    </tr>\n",
       "  </thead>\n",
       "  <tbody>\n",
       "    <tr>\n",
       "      <th>0</th>\n",
       "      <td>1</td>\n",
       "      <td>Toy Story (1995)</td>\n",
       "      <td>Adventure Animation Children Comedy Fantasy</td>\n",
       "      <td>https://image.tmdb.org/t/p/w500//uXDfjJbdP4ijW...</td>\n",
       "      <td>Led by Woody, Andy's toys live happily in his ...</td>\n",
       "      <td>toy stori toy stori toy stori adventur anim ch...</td>\n",
       "    </tr>\n",
       "    <tr>\n",
       "      <th>1</th>\n",
       "      <td>2</td>\n",
       "      <td>Jumanji (1995)</td>\n",
       "      <td>Adventure Children Fantasy</td>\n",
       "      <td>https://image.tmdb.org/t/p/w500//6aGn2X51bahFo...</td>\n",
       "      <td>When siblings Judy and Peter discover an encha...</td>\n",
       "      <td>jumanji jumanji jumanji adventur children fant...</td>\n",
       "    </tr>\n",
       "    <tr>\n",
       "      <th>2</th>\n",
       "      <td>3</td>\n",
       "      <td>Grumpier Old Men (1995)</td>\n",
       "      <td>Comedy Romance</td>\n",
       "      <td>https://image.tmdb.org/t/p/w500//1FSXpj5e8l4KH...</td>\n",
       "      <td>A family wedding reignites the ancient feud be...</td>\n",
       "      <td>grumpier old men grumpier old men grumpier old...</td>\n",
       "    </tr>\n",
       "    <tr>\n",
       "      <th>3</th>\n",
       "      <td>4</td>\n",
       "      <td>Waiting to Exhale (1995)</td>\n",
       "      <td>Comedy Drama Romance</td>\n",
       "      <td>https://image.tmdb.org/t/p/w500//4uw6HKq4vlhrS...</td>\n",
       "      <td>Cheated on, mistreated and stepped on, the wom...</td>\n",
       "      <td>wait to exhal wait to exhal wait to exhal come...</td>\n",
       "    </tr>\n",
       "    <tr>\n",
       "      <th>4</th>\n",
       "      <td>5</td>\n",
       "      <td>Father of the Bride Part II (1995)</td>\n",
       "      <td>Comedy</td>\n",
       "      <td>https://image.tmdb.org/t/p/w500//rj4LBtwQ0uGrp...</td>\n",
       "      <td>Just when George Banks has recovered from his ...</td>\n",
       "      <td>father of the bride part ii father of the brid...</td>\n",
       "    </tr>\n",
       "  </tbody>\n",
       "</table>\n",
       "</div>"
      ],
      "text/plain": [
       "   movieId                               title  \\\n",
       "0        1                    Toy Story (1995)   \n",
       "1        2                      Jumanji (1995)   \n",
       "2        3             Grumpier Old Men (1995)   \n",
       "3        4            Waiting to Exhale (1995)   \n",
       "4        5  Father of the Bride Part II (1995)   \n",
       "\n",
       "                                        genres  \\\n",
       "0  Adventure Animation Children Comedy Fantasy   \n",
       "1                   Adventure Children Fantasy   \n",
       "2                               Comedy Romance   \n",
       "3                         Comedy Drama Romance   \n",
       "4                                       Comedy   \n",
       "\n",
       "                                          poster_url  \\\n",
       "0  https://image.tmdb.org/t/p/w500//uXDfjJbdP4ijW...   \n",
       "1  https://image.tmdb.org/t/p/w500//6aGn2X51bahFo...   \n",
       "2  https://image.tmdb.org/t/p/w500//1FSXpj5e8l4KH...   \n",
       "3  https://image.tmdb.org/t/p/w500//4uw6HKq4vlhrS...   \n",
       "4  https://image.tmdb.org/t/p/w500//rj4LBtwQ0uGrp...   \n",
       "\n",
       "                                            overview  \\\n",
       "0  Led by Woody, Andy's toys live happily in his ...   \n",
       "1  When siblings Judy and Peter discover an encha...   \n",
       "2  A family wedding reignites the ancient feud be...   \n",
       "3  Cheated on, mistreated and stepped on, the wom...   \n",
       "4  Just when George Banks has recovered from his ...   \n",
       "\n",
       "                                             keyword  \n",
       "0  toy stori toy stori toy stori adventur anim ch...  \n",
       "1  jumanji jumanji jumanji adventur children fant...  \n",
       "2  grumpier old men grumpier old men grumpier old...  \n",
       "3  wait to exhal wait to exhal wait to exhal come...  \n",
       "4  father of the bride part ii father of the brid...  "
      ]
     },
     "execution_count": 36,
     "metadata": {},
     "output_type": "execute_result"
    }
   ],
   "source": [
    "new_movies.head()"
   ]
  },
  {
   "cell_type": "code",
   "execution_count": 37,
   "id": "dc2b0ee5",
   "metadata": {},
   "outputs": [],
   "source": [
    "new_movies.to_csv('content_base_data.csv', index=False)"
   ]
  }
 ],
 "metadata": {
  "kernelspec": {
   "display_name": "Python 3 (ipykernel)",
   "language": "python",
   "name": "python3"
  },
  "language_info": {
   "codemirror_mode": {
    "name": "ipython",
    "version": 3
   },
   "file_extension": ".py",
   "mimetype": "text/x-python",
   "name": "python",
   "nbconvert_exporter": "python",
   "pygments_lexer": "ipython3",
   "version": "3.9.7"
  }
 },
 "nbformat": 4,
 "nbformat_minor": 5
}
